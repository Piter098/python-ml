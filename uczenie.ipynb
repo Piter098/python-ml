{
 "cells": [
  {
   "cell_type": "code",
   "execution_count": 413,
   "metadata": {
    "collapsed": false
   },
   "outputs": [],
   "source": [
    "import pandas as pd\n",
    "import numpy as np\n",
    "from sklearn.model_selection import train_test_split\n",
    "from sklearn import svm\n",
    "from sklearn.linear_model import Lasso, LinearRegression\n",
    "from sklearn.model_selection import GridSearchCV\n",
    "from sklearn.ensemble import RandomForestRegressor\n",
    "from sklearn.preprocessing import normalize"
   ]
  },
  {
   "cell_type": "markdown",
   "metadata": {},
   "source": [
    "## Wczytanie danych treningowych"
   ]
  },
  {
   "cell_type": "code",
   "execution_count": 610,
   "metadata": {
    "collapsed": false,
    "scrolled": true
   },
   "outputs": [
    {
     "data": {
      "text/plain": [
       "(235790, 6)"
      ]
     },
     "execution_count": 610,
     "metadata": {},
     "output_type": "execute_result"
    }
   ],
   "source": [
    "traindf = pd.read_csv(\"train.csv\")\n",
    "traindf_complete = traindf.loc[:,['ora',\n",
    "#                               'irr_pvgis_mod','irri_pvgis_mod',\n",
    "                                 'temperatura_ambiente',\n",
    "                                 'irradiamento',\n",
    "                                 'pressure', 'windspeed',\n",
    "                                 'cloudcover',\n",
    "                                 'kwh']]\n",
    "\n",
    "X = traindf_complete.drop(['kwh'], axis=1)\n",
    "Y = traindf_complete['kwh']\n",
    "\n",
    "X.shape"
   ]
  },
  {
   "cell_type": "markdown",
   "metadata": {},
   "source": [
    "## //risercz algorytmów"
   ]
  },
  {
   "cell_type": "code",
   "execution_count": 642,
   "metadata": {
    "collapsed": false
   },
   "outputs": [
    {
     "data": {
      "text/plain": [
       "169565    0.000\n",
       "13544     0.000\n",
       "124579    0.031\n",
       "111285    0.000\n",
       "54844     0.059\n",
       "181757    0.464\n",
       "156355    0.000\n",
       "96045     0.000\n",
       "63077     0.248\n",
       "171664    0.677\n",
       "Name: kwh, dtype: float64"
      ]
     },
     "execution_count": 642,
     "metadata": {},
     "output_type": "execute_result"
    }
   ],
   "source": [
    "x_train,x_test,y_train,y_test = train_test_split(X,Y, test_size=0.4)\n",
    "\n",
    "y_test.head(10)"
   ]
  },
  {
   "cell_type": "code",
   "execution_count": 643,
   "metadata": {
    "collapsed": false
   },
   "outputs": [
    {
     "data": {
      "text/plain": [
       "RandomForestRegressor(bootstrap=True, criterion='mse', max_depth=40,\n",
       "           max_features='auto', max_leaf_nodes=None,\n",
       "           min_impurity_decrease=0.0, min_impurity_split=None,\n",
       "           min_samples_leaf=1, min_samples_split=2,\n",
       "           min_weight_fraction_leaf=0.0, n_estimators=400, n_jobs=4,\n",
       "           oob_score=False, random_state=0, verbose=0, warm_start=False)"
      ]
     },
     "execution_count": 643,
     "metadata": {},
     "output_type": "execute_result"
    }
   ],
   "source": [
    "# %%time\n",
    "# # clf = svm.SVR(C=1, gamma=0.1, epsilon=0.1).fit(x_train, y_train)\n",
    "\n",
    "# lss = Lasso(random_state=0, max_iter=1000)\n",
    "# aaa = np.logspace(-10, -5, 30)\n",
    "# par = [{'alpha': alphas}]\n",
    "# nnn = 3\n",
    "\n",
    "# clf = GridSearchCV(lss, par, cv=nnn, refit=True)\n",
    "# clf.fit(x_train,y_train)\n",
    "\n",
    "clf = RandomForestRegressor(max_depth = 40, n_estimators=400, n_jobs=4, random_state=0)\n",
    "\n",
    "clf.fit(X, Y)"
   ]
  },
  {
   "cell_type": "code",
   "execution_count": 644,
   "metadata": {
    "collapsed": false
   },
   "outputs": [
    {
     "data": {
      "text/plain": [
       "0.98257660947250836"
      ]
     },
     "execution_count": 644,
     "metadata": {},
     "output_type": "execute_result"
    }
   ],
   "source": [
    "clf.score(x_test, y_test)\n",
    "# clf.best_score_"
   ]
  },
  {
   "cell_type": "code",
   "execution_count": 645,
   "metadata": {
    "collapsed": false
   },
   "outputs": [],
   "source": [
    "# clf.best_params_"
   ]
  },
  {
   "cell_type": "code",
   "execution_count": 646,
   "metadata": {
    "collapsed": false
   },
   "outputs": [
    {
     "data": {
      "text/plain": [
       "0.00077237212715863953"
      ]
     },
     "execution_count": 646,
     "metadata": {},
     "output_type": "execute_result"
    }
   ],
   "source": [
    "from sklearn.metrics import mean_squared_error\n",
    "yyy = clf.predict(x_test)\n",
    "mean_squared_error(y_test, yyy)"
   ]
  },
  {
   "cell_type": "code",
   "execution_count": 647,
   "metadata": {
    "collapsed": false
   },
   "outputs": [
    {
     "data": {
      "text/plain": [
       "array([  5.27674764e-06,   5.61252715e-06,   2.93700000e-02,\n",
       "         7.56973209e-06,   4.77075000e-02,   4.64000017e-01,\n",
       "         9.02688854e-04,   4.65412678e-06,   2.91425000e-01,\n",
       "         6.75470000e-01])"
      ]
     },
     "execution_count": 647,
     "metadata": {},
     "output_type": "execute_result"
    }
   ],
   "source": [
    "yyy[:10]"
   ]
  },
  {
   "cell_type": "markdown",
   "metadata": {
    "collapsed": true
   },
   "source": [
    "## Wczytanie danych testowych"
   ]
  },
  {
   "cell_type": "code",
   "execution_count": 629,
   "metadata": {
    "collapsed": false
   },
   "outputs": [
    {
     "data": {
      "text/html": [
       "<div>\n",
       "<table border=\"1\" class=\"dataframe\">\n",
       "  <thead>\n",
       "    <tr style=\"text-align: right;\">\n",
       "      <th></th>\n",
       "      <th>ora</th>\n",
       "      <th>temperatura_ambiente</th>\n",
       "      <th>irradiamento</th>\n",
       "      <th>pressure</th>\n",
       "      <th>windspeed</th>\n",
       "      <th>cloudcover</th>\n",
       "    </tr>\n",
       "  </thead>\n",
       "  <tbody>\n",
       "    <tr>\n",
       "      <th>0</th>\n",
       "      <td>0.0</td>\n",
       "      <td>0.212</td>\n",
       "      <td>0.0</td>\n",
       "      <td>0.0</td>\n",
       "      <td>0.041</td>\n",
       "      <td>0.00</td>\n",
       "    </tr>\n",
       "    <tr>\n",
       "      <th>1</th>\n",
       "      <td>0.0</td>\n",
       "      <td>0.212</td>\n",
       "      <td>0.0</td>\n",
       "      <td>0.0</td>\n",
       "      <td>0.001</td>\n",
       "      <td>0.00</td>\n",
       "    </tr>\n",
       "    <tr>\n",
       "      <th>2</th>\n",
       "      <td>0.0</td>\n",
       "      <td>0.212</td>\n",
       "      <td>0.0</td>\n",
       "      <td>0.0</td>\n",
       "      <td>0.021</td>\n",
       "      <td>0.31</td>\n",
       "    </tr>\n",
       "  </tbody>\n",
       "</table>\n",
       "</div>"
      ],
      "text/plain": [
       "   ora  temperatura_ambiente  irradiamento  pressure  windspeed  cloudcover\n",
       "0  0.0                 0.212           0.0       0.0      0.041        0.00\n",
       "1  0.0                 0.212           0.0       0.0      0.001        0.00\n",
       "2  0.0                 0.212           0.0       0.0      0.021        0.31"
      ]
     },
     "execution_count": 629,
     "metadata": {},
     "output_type": "execute_result"
    }
   ],
   "source": [
    "testdf = pd.read_csv(\"test.csv\")\n",
    "testdf_complete = testdf.loc[:,['ora',\n",
    "#                                          'irr_pvgis_mod','irri_pvgis_mod',\n",
    "                                         'temperatura_ambiente',\n",
    "                                 'irradiamento',\n",
    "                                 'pressure', 'windspeed',\n",
    "                                 'cloudcover'\n",
    "                               ]]\n",
    "\n",
    "testdf_complete.head(3)"
   ]
  },
  {
   "cell_type": "markdown",
   "metadata": {},
   "source": [
    "## Uczenie"
   ]
  },
  {
   "cell_type": "code",
   "execution_count": 630,
   "metadata": {
    "collapsed": false
   },
   "outputs": [
    {
     "name": "stdout",
     "output_type": "stream",
     "text": [
      "Wall time: 1min 14s\n"
     ]
    }
   ],
   "source": [
    "%%time\n",
    "# modelfit = svm.SVR(C=1, gamma=1, epsilon=0.1).fit(X, Y)\n",
    "\n",
    "# lasso = Lasso(random_state=0, max_iter=1000, normalize = True)\n",
    "# alphas = np.logspace(-10, -5, 30)\n",
    "# tuned_parameters = [{'alpha': alphas}]\n",
    "# n_folds = 3\n",
    "\n",
    "# modelfit = GridSearchCV(lasso, tuned_parameters, cv=n_folds, refit=True)\n",
    "\n",
    "\n",
    "# model = LinearRegression()\n",
    "# parameters = {'fit_intercept':[True,False], 'normalize':[True], 'copy_X':[True, False]}\n",
    "# modelfit = GridSearchCV(model,parameters, cv=3)\n",
    "\n",
    "modelfit = RandomForestRegressor(max_depth = 20, n_estimators=200, n_jobs=4, random_state=0)\n",
    "\n",
    "# param_grid = { \n",
    "#     'n_estimators': [150, 200]\n",
    "# }\n",
    "\n",
    "# modelfit = GridSearchCV(rf,param_grid, cv=3)\n",
    "\n",
    "modelfit.fit(X, Y)"
   ]
  },
  {
   "cell_type": "code",
   "execution_count": 631,
   "metadata": {
    "collapsed": false
   },
   "outputs": [],
   "source": [
    "# modelfit.best_params_"
   ]
  },
  {
   "cell_type": "markdown",
   "metadata": {},
   "source": [
    "## Predykcja"
   ]
  },
  {
   "cell_type": "code",
   "execution_count": 632,
   "metadata": {
    "collapsed": false
   },
   "outputs": [
    {
     "name": "stdout",
     "output_type": "stream",
     "text": [
      "Wall time: 926 ms\n"
     ]
    }
   ],
   "source": [
    "%%time\n",
    "pred_result = modelfit.predict(testdf_complete)\n",
    "# pred_norm = normalize(pred_result[:,np.newaxis], axis=0).ravel()"
   ]
  },
  {
   "cell_type": "code",
   "execution_count": 633,
   "metadata": {
    "collapsed": false
   },
   "outputs": [],
   "source": [
    "#  norm2[:10]"
   ]
  },
  {
   "cell_type": "code",
   "execution_count": 634,
   "metadata": {
    "collapsed": false,
    "scrolled": true
   },
   "outputs": [
    {
     "data": {
      "text/html": [
       "<div>\n",
       "<table border=\"1\" class=\"dataframe\">\n",
       "  <thead>\n",
       "    <tr style=\"text-align: right;\">\n",
       "      <th></th>\n",
       "      <th>ora</th>\n",
       "      <th>temperatura_ambiente</th>\n",
       "      <th>irradiamento</th>\n",
       "      <th>pressure</th>\n",
       "      <th>windspeed</th>\n",
       "      <th>cloudcover</th>\n",
       "    </tr>\n",
       "  </thead>\n",
       "  <tbody>\n",
       "    <tr>\n",
       "      <th>140</th>\n",
       "      <td>0.444</td>\n",
       "      <td>0.394</td>\n",
       "      <td>0.026</td>\n",
       "      <td>0.756</td>\n",
       "      <td>0.039</td>\n",
       "      <td>0.97</td>\n",
       "    </tr>\n",
       "    <tr>\n",
       "      <th>141</th>\n",
       "      <td>0.444</td>\n",
       "      <td>0.409</td>\n",
       "      <td>0.056</td>\n",
       "      <td>0.756</td>\n",
       "      <td>0.038</td>\n",
       "      <td>0.97</td>\n",
       "    </tr>\n",
       "    <tr>\n",
       "      <th>142</th>\n",
       "      <td>0.444</td>\n",
       "      <td>0.424</td>\n",
       "      <td>0.098</td>\n",
       "      <td>0.757</td>\n",
       "      <td>0.067</td>\n",
       "      <td>0.75</td>\n",
       "    </tr>\n",
       "    <tr>\n",
       "      <th>143</th>\n",
       "      <td>0.444</td>\n",
       "      <td>0.394</td>\n",
       "      <td>0.051</td>\n",
       "      <td>0.756</td>\n",
       "      <td>0.038</td>\n",
       "      <td>0.97</td>\n",
       "    </tr>\n",
       "    <tr>\n",
       "      <th>144</th>\n",
       "      <td>0.444</td>\n",
       "      <td>0.364</td>\n",
       "      <td>0.035</td>\n",
       "      <td>0.756</td>\n",
       "      <td>0.038</td>\n",
       "      <td>0.97</td>\n",
       "    </tr>\n",
       "    <tr>\n",
       "      <th>145</th>\n",
       "      <td>0.444</td>\n",
       "      <td>0.379</td>\n",
       "      <td>0.035</td>\n",
       "      <td>0.756</td>\n",
       "      <td>0.039</td>\n",
       "      <td>0.97</td>\n",
       "    </tr>\n",
       "    <tr>\n",
       "      <th>146</th>\n",
       "      <td>0.444</td>\n",
       "      <td>0.364</td>\n",
       "      <td>0.054</td>\n",
       "      <td>0.756</td>\n",
       "      <td>0.040</td>\n",
       "      <td>0.97</td>\n",
       "    </tr>\n",
       "    <tr>\n",
       "      <th>147</th>\n",
       "      <td>0.444</td>\n",
       "      <td>0.318</td>\n",
       "      <td>0.140</td>\n",
       "      <td>0.000</td>\n",
       "      <td>0.021</td>\n",
       "      <td>0.31</td>\n",
       "    </tr>\n",
       "    <tr>\n",
       "      <th>148</th>\n",
       "      <td>0.444</td>\n",
       "      <td>0.409</td>\n",
       "      <td>0.046</td>\n",
       "      <td>0.757</td>\n",
       "      <td>0.043</td>\n",
       "      <td>0.96</td>\n",
       "    </tr>\n",
       "    <tr>\n",
       "      <th>149</th>\n",
       "      <td>0.444</td>\n",
       "      <td>0.333</td>\n",
       "      <td>0.021</td>\n",
       "      <td>0.000</td>\n",
       "      <td>0.036</td>\n",
       "      <td>0.00</td>\n",
       "    </tr>\n",
       "  </tbody>\n",
       "</table>\n",
       "</div>"
      ],
      "text/plain": [
       "       ora  temperatura_ambiente  irradiamento  pressure  windspeed  \\\n",
       "140  0.444                 0.394         0.026     0.756      0.039   \n",
       "141  0.444                 0.409         0.056     0.756      0.038   \n",
       "142  0.444                 0.424         0.098     0.757      0.067   \n",
       "143  0.444                 0.394         0.051     0.756      0.038   \n",
       "144  0.444                 0.364         0.035     0.756      0.038   \n",
       "145  0.444                 0.379         0.035     0.756      0.039   \n",
       "146  0.444                 0.364         0.054     0.756      0.040   \n",
       "147  0.444                 0.318         0.140     0.000      0.021   \n",
       "148  0.444                 0.409         0.046     0.757      0.043   \n",
       "149  0.444                 0.333         0.021     0.000      0.036   \n",
       "\n",
       "     cloudcover  \n",
       "140        0.97  \n",
       "141        0.97  \n",
       "142        0.75  \n",
       "143        0.97  \n",
       "144        0.97  \n",
       "145        0.97  \n",
       "146        0.97  \n",
       "147        0.31  \n",
       "148        0.96  \n",
       "149        0.00  "
      ]
     },
     "execution_count": 634,
     "metadata": {},
     "output_type": "execute_result"
    }
   ],
   "source": [
    " testdf_complete[140:150]"
   ]
  },
  {
   "cell_type": "markdown",
   "metadata": {},
   "source": [
    "## Przygotowanie wyniku"
   ]
  },
  {
   "cell_type": "code",
   "execution_count": 635,
   "metadata": {
    "collapsed": false
   },
   "outputs": [
    {
     "data": {
      "text/plain": [
       "0.70236166252715859"
      ]
     },
     "execution_count": 635,
     "metadata": {},
     "output_type": "execute_result"
    }
   ],
   "source": [
    "norm = pred_result - min(pred_result)\n",
    "max(norm)"
   ]
  },
  {
   "cell_type": "code",
   "execution_count": 636,
   "metadata": {
    "collapsed": false
   },
   "outputs": [],
   "source": [
    "kwh = pd.Series(pred_result)\n",
    "non_negative = np.round(pred_result*1000)/1000.0 #- min(pred_result)\n",
    "non_negative[non_negative < 0] = 0\n",
    "d = {'Id': testdf['id'].tolist(), 'kwh': non_negative}\n",
    "result = pd.DataFrame(data=d)"
   ]
  },
  {
   "cell_type": "markdown",
   "metadata": {},
   "source": [
    "## Zapis do csv"
   ]
  },
  {
   "cell_type": "code",
   "execution_count": 637,
   "metadata": {
    "collapsed": false
   },
   "outputs": [],
   "source": [
    "result.to_csv('wynik.csv',index=False)"
   ]
  },
  {
   "cell_type": "code",
   "execution_count": 638,
   "metadata": {
    "collapsed": false
   },
   "outputs": [
    {
     "data": {
      "text/html": [
       "<div>\n",
       "<table border=\"1\" class=\"dataframe\">\n",
       "  <thead>\n",
       "    <tr style=\"text-align: right;\">\n",
       "      <th></th>\n",
       "      <th>Id</th>\n",
       "      <th>kwh</th>\n",
       "    </tr>\n",
       "  </thead>\n",
       "  <tbody>\n",
       "    <tr>\n",
       "      <th>140</th>\n",
       "      <td>34735</td>\n",
       "      <td>0.045</td>\n",
       "    </tr>\n",
       "    <tr>\n",
       "      <th>141</th>\n",
       "      <td>34743</td>\n",
       "      <td>0.088</td>\n",
       "    </tr>\n",
       "    <tr>\n",
       "      <th>142</th>\n",
       "      <td>34776</td>\n",
       "      <td>0.319</td>\n",
       "    </tr>\n",
       "    <tr>\n",
       "      <th>143</th>\n",
       "      <td>34901</td>\n",
       "      <td>0.087</td>\n",
       "    </tr>\n",
       "    <tr>\n",
       "      <th>144</th>\n",
       "      <td>34949</td>\n",
       "      <td>0.055</td>\n",
       "    </tr>\n",
       "    <tr>\n",
       "      <th>145</th>\n",
       "      <td>34970</td>\n",
       "      <td>0.057</td>\n",
       "    </tr>\n",
       "    <tr>\n",
       "      <th>146</th>\n",
       "      <td>35111</td>\n",
       "      <td>0.098</td>\n",
       "    </tr>\n",
       "    <tr>\n",
       "      <th>147</th>\n",
       "      <td>35201</td>\n",
       "      <td>0.461</td>\n",
       "    </tr>\n",
       "    <tr>\n",
       "      <th>148</th>\n",
       "      <td>35260</td>\n",
       "      <td>0.096</td>\n",
       "    </tr>\n",
       "    <tr>\n",
       "      <th>149</th>\n",
       "      <td>35370</td>\n",
       "      <td>0.568</td>\n",
       "    </tr>\n",
       "  </tbody>\n",
       "</table>\n",
       "</div>"
      ],
      "text/plain": [
       "        Id    kwh\n",
       "140  34735  0.045\n",
       "141  34743  0.088\n",
       "142  34776  0.319\n",
       "143  34901  0.087\n",
       "144  34949  0.055\n",
       "145  34970  0.057\n",
       "146  35111  0.098\n",
       "147  35201  0.461\n",
       "148  35260  0.096\n",
       "149  35370  0.568"
      ]
     },
     "execution_count": 638,
     "metadata": {},
     "output_type": "execute_result"
    }
   ],
   "source": [
    "result[140:150]"
   ]
  },
  {
   "cell_type": "code",
   "execution_count": 639,
   "metadata": {
    "collapsed": false
   },
   "outputs": [
    {
     "data": {
      "text/html": [
       "<div>\n",
       "<table border=\"1\" class=\"dataframe\">\n",
       "  <thead>\n",
       "    <tr style=\"text-align: right;\">\n",
       "      <th></th>\n",
       "      <th>Id</th>\n",
       "      <th>kwh</th>\n",
       "    </tr>\n",
       "  </thead>\n",
       "  <tbody>\n",
       "    <tr>\n",
       "      <th>0</th>\n",
       "      <td>34255</td>\n",
       "      <td>0.000</td>\n",
       "    </tr>\n",
       "    <tr>\n",
       "      <th>1</th>\n",
       "      <td>34282</td>\n",
       "      <td>0.000</td>\n",
       "    </tr>\n",
       "    <tr>\n",
       "      <th>2</th>\n",
       "      <td>34375</td>\n",
       "      <td>0.000</td>\n",
       "    </tr>\n",
       "    <tr>\n",
       "      <th>3</th>\n",
       "      <td>34572</td>\n",
       "      <td>0.000</td>\n",
       "    </tr>\n",
       "    <tr>\n",
       "      <th>4</th>\n",
       "      <td>34660</td>\n",
       "      <td>0.005</td>\n",
       "    </tr>\n",
       "    <tr>\n",
       "      <th>5</th>\n",
       "      <td>34761</td>\n",
       "      <td>0.000</td>\n",
       "    </tr>\n",
       "    <tr>\n",
       "      <th>6</th>\n",
       "      <td>34814</td>\n",
       "      <td>0.000</td>\n",
       "    </tr>\n",
       "    <tr>\n",
       "      <th>7</th>\n",
       "      <td>34888</td>\n",
       "      <td>0.000</td>\n",
       "    </tr>\n",
       "    <tr>\n",
       "      <th>8</th>\n",
       "      <td>34913</td>\n",
       "      <td>0.000</td>\n",
       "    </tr>\n",
       "    <tr>\n",
       "      <th>9</th>\n",
       "      <td>34987</td>\n",
       "      <td>0.000</td>\n",
       "    </tr>\n",
       "    <tr>\n",
       "      <th>10</th>\n",
       "      <td>35099</td>\n",
       "      <td>0.000</td>\n",
       "    </tr>\n",
       "    <tr>\n",
       "      <th>11</th>\n",
       "      <td>35254</td>\n",
       "      <td>0.000</td>\n",
       "    </tr>\n",
       "    <tr>\n",
       "      <th>12</th>\n",
       "      <td>35275</td>\n",
       "      <td>0.000</td>\n",
       "    </tr>\n",
       "    <tr>\n",
       "      <th>13</th>\n",
       "      <td>35304</td>\n",
       "      <td>0.000</td>\n",
       "    </tr>\n",
       "    <tr>\n",
       "      <th>14</th>\n",
       "      <td>35378</td>\n",
       "      <td>0.000</td>\n",
       "    </tr>\n",
       "    <tr>\n",
       "      <th>15</th>\n",
       "      <td>35381</td>\n",
       "      <td>0.000</td>\n",
       "    </tr>\n",
       "    <tr>\n",
       "      <th>16</th>\n",
       "      <td>35422</td>\n",
       "      <td>0.000</td>\n",
       "    </tr>\n",
       "    <tr>\n",
       "      <th>17</th>\n",
       "      <td>34363</td>\n",
       "      <td>0.000</td>\n",
       "    </tr>\n",
       "    <tr>\n",
       "      <th>18</th>\n",
       "      <td>34426</td>\n",
       "      <td>0.000</td>\n",
       "    </tr>\n",
       "    <tr>\n",
       "      <th>19</th>\n",
       "      <td>34539</td>\n",
       "      <td>0.000</td>\n",
       "    </tr>\n",
       "  </tbody>\n",
       "</table>\n",
       "</div>"
      ],
      "text/plain": [
       "       Id    kwh\n",
       "0   34255  0.000\n",
       "1   34282  0.000\n",
       "2   34375  0.000\n",
       "3   34572  0.000\n",
       "4   34660  0.005\n",
       "5   34761  0.000\n",
       "6   34814  0.000\n",
       "7   34888  0.000\n",
       "8   34913  0.000\n",
       "9   34987  0.000\n",
       "10  35099  0.000\n",
       "11  35254  0.000\n",
       "12  35275  0.000\n",
       "13  35304  0.000\n",
       "14  35378  0.000\n",
       "15  35381  0.000\n",
       "16  35422  0.000\n",
       "17  34363  0.000\n",
       "18  34426  0.000\n",
       "19  34539  0.000"
      ]
     },
     "execution_count": 639,
     "metadata": {},
     "output_type": "execute_result"
    }
   ],
   "source": [
    "result[0:20]"
   ]
  },
  {
   "cell_type": "code",
   "execution_count": 640,
   "metadata": {
    "collapsed": false
   },
   "outputs": [
    {
     "data": {
      "text/plain": [
       "0.70199999999999996"
      ]
     },
     "execution_count": 640,
     "metadata": {},
     "output_type": "execute_result"
    }
   ],
   "source": [
    "max(non_negative)"
   ]
  },
  {
   "cell_type": "code",
   "execution_count": 641,
   "metadata": {
    "collapsed": false
   },
   "outputs": [
    {
     "data": {
      "text/plain": [
       "0.70236166252715859"
      ]
     },
     "execution_count": 641,
     "metadata": {},
     "output_type": "execute_result"
    }
   ],
   "source": [
    "max(pred_result)"
   ]
  },
  {
   "cell_type": "code",
   "execution_count": null,
   "metadata": {
    "collapsed": true
   },
   "outputs": [],
   "source": []
  }
 ],
 "metadata": {
  "anaconda-cloud": {},
  "kernelspec": {
   "display_name": "Python [conda root]",
   "language": "python",
   "name": "conda-root-py"
  },
  "language_info": {
   "codemirror_mode": {
    "name": "ipython",
    "version": 3
   },
   "file_extension": ".py",
   "mimetype": "text/x-python",
   "name": "python",
   "nbconvert_exporter": "python",
   "pygments_lexer": "ipython3",
   "version": "3.5.2"
  }
 },
 "nbformat": 4,
 "nbformat_minor": 1
}
