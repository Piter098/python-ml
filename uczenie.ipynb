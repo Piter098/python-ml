{
 "cells": [
  {
   "cell_type": "code",
   "execution_count": 303,
   "metadata": {
    "collapsed": false
   },
   "outputs": [],
   "source": [
    "import pandas as pd\n",
    "import numpy as np\n",
    "from sklearn.model_selection import train_test_split\n",
    "from sklearn import svm"
   ]
  },
  {
   "cell_type": "code",
   "execution_count": 304,
   "metadata": {
    "collapsed": false
   },
   "outputs": [
    {
     "data": {
      "text/html": [
       "<div>\n",
       "<table border=\"1\" class=\"dataframe\">\n",
       "  <thead>\n",
       "    <tr style=\"text-align: right;\">\n",
       "      <th></th>\n",
       "      <th>ora</th>\n",
       "      <th>irr_pvgis_mod</th>\n",
       "      <th>irri_pvgis_mod</th>\n",
       "      <th>temperatura_ambiente</th>\n",
       "      <th>tempi</th>\n",
       "      <th>irradiamento</th>\n",
       "      <th>irri</th>\n",
       "      <th>pressure</th>\n",
       "      <th>pressurei</th>\n",
       "      <th>windspeed</th>\n",
       "      <th>windspeedi</th>\n",
       "      <th>dewpoint</th>\n",
       "      <th>dewpointi</th>\n",
       "      <th>cloudcover</th>\n",
       "      <th>cloudcoveri</th>\n",
       "    </tr>\n",
       "  </thead>\n",
       "  <tbody>\n",
       "    <tr>\n",
       "      <th>0</th>\n",
       "      <td>0.0</td>\n",
       "      <td>0.0</td>\n",
       "      <td>0.189</td>\n",
       "      <td>0.212</td>\n",
       "      <td>0.113</td>\n",
       "      <td>0.0</td>\n",
       "      <td>0.219</td>\n",
       "      <td>0.0</td>\n",
       "      <td>0.0</td>\n",
       "      <td>0.054</td>\n",
       "      <td>0.040</td>\n",
       "      <td>0.436</td>\n",
       "      <td>0.114</td>\n",
       "      <td>0.0</td>\n",
       "      <td>0.200</td>\n",
       "    </tr>\n",
       "    <tr>\n",
       "      <th>1</th>\n",
       "      <td>0.0</td>\n",
       "      <td>0.0</td>\n",
       "      <td>0.200</td>\n",
       "      <td>0.212</td>\n",
       "      <td>0.117</td>\n",
       "      <td>0.0</td>\n",
       "      <td>0.220</td>\n",
       "      <td>0.0</td>\n",
       "      <td>0.0</td>\n",
       "      <td>0.062</td>\n",
       "      <td>0.038</td>\n",
       "      <td>0.444</td>\n",
       "      <td>0.188</td>\n",
       "      <td>0.0</td>\n",
       "      <td>0.329</td>\n",
       "    </tr>\n",
       "    <tr>\n",
       "      <th>2</th>\n",
       "      <td>0.0</td>\n",
       "      <td>0.0</td>\n",
       "      <td>0.158</td>\n",
       "      <td>0.212</td>\n",
       "      <td>0.115</td>\n",
       "      <td>0.0</td>\n",
       "      <td>0.220</td>\n",
       "      <td>0.0</td>\n",
       "      <td>0.0</td>\n",
       "      <td>0.054</td>\n",
       "      <td>0.039</td>\n",
       "      <td>0.432</td>\n",
       "      <td>0.201</td>\n",
       "      <td>0.0</td>\n",
       "      <td>0.201</td>\n",
       "    </tr>\n",
       "  </tbody>\n",
       "</table>\n",
       "</div>"
      ],
      "text/plain": [
       "   ora  irr_pvgis_mod  irri_pvgis_mod  temperatura_ambiente  tempi  \\\n",
       "0  0.0            0.0           0.189                 0.212  0.113   \n",
       "1  0.0            0.0           0.200                 0.212  0.117   \n",
       "2  0.0            0.0           0.158                 0.212  0.115   \n",
       "\n",
       "   irradiamento   irri  pressure  pressurei  windspeed  windspeedi  dewpoint  \\\n",
       "0           0.0  0.219       0.0        0.0      0.054       0.040     0.436   \n",
       "1           0.0  0.220       0.0        0.0      0.062       0.038     0.444   \n",
       "2           0.0  0.220       0.0        0.0      0.054       0.039     0.432   \n",
       "\n",
       "   dewpointi  cloudcover  cloudcoveri  \n",
       "0      0.114         0.0        0.200  \n",
       "1      0.188         0.0        0.329  \n",
       "2      0.201         0.0        0.201  "
      ]
     },
     "execution_count": 304,
     "metadata": {},
     "output_type": "execute_result"
    }
   ],
   "source": [
    "traindf = pd.read_csv(\"train.csv\")\n",
    "traindf_dropna = traindf.dropna()\n",
    "traindf_complete = traindf_dropna.loc[:,['ora',\n",
    "                                         'irr_pvgis_mod','irri_pvgis_mod',\n",
    "                                         'temperatura_ambiente', 'tempi',\n",
    "                                         'irradiamento','irri',\n",
    "                                         'pressure','pressurei', 'windspeed','windspeedi',\n",
    "                                         'dewpoint','dewpointi', 'cloudcover','cloudcoveri', 'kwh']]\n",
    "\n",
    "\n",
    "# traindf_complete = traindf_dropna.loc[:,['ora',\n",
    "#                                          'irradiamento','irri','cloudcover','cloudcoveri',\n",
    "#                                          'kwh']]\n",
    "\n",
    "X = traindf_complete.drop(['kwh'], axis=1)\n",
    "Y = traindf_complete['kwh']\n",
    "\n",
    "X.head(3)\n"
   ]
  },
  {
   "cell_type": "code",
   "execution_count": 305,
   "metadata": {
    "collapsed": false
   },
   "outputs": [],
   "source": [
    "# x_train,x_test,y_train,y_test = train_test_split(X,Y, test_size=0.4)\n",
    "\n",
    "# y_test.head(10)"
   ]
  },
  {
   "cell_type": "code",
   "execution_count": 306,
   "metadata": {
    "collapsed": false
   },
   "outputs": [],
   "source": [
    "# clf = svm.SVR(C=1, gamma=10, epsilon=0.1).fit(x_train, y_train)\n",
    "# clf.score(x_test, y_test)"
   ]
  },
  {
   "cell_type": "code",
   "execution_count": null,
   "metadata": {
    "collapsed": false
   },
   "outputs": [],
   "source": [
    "# clf.predict(x_test)[:10]"
   ]
  },
  {
   "cell_type": "code",
   "execution_count": null,
   "metadata": {
    "collapsed": true
   },
   "outputs": [],
   "source": [
    "#####################################################################"
   ]
  },
  {
   "cell_type": "code",
   "execution_count": null,
   "metadata": {
    "collapsed": false
   },
   "outputs": [],
   "source": [
    "\n",
    "testdf = pd.read_csv(\"test.csv\")\n",
    "# testdf_dropna = testdf.dropna()\n",
    "testdf_complete = testdf.loc[:,['ora',\n",
    "                                         'irr_pvgis_mod','irri_pvgis_mod',\n",
    "                                         'temperatura_ambiente', 'tempi',\n",
    "                                         'irradiamento','irri',\n",
    "                                         'pressure','pressurei', 'windspeed','windspeedi',\n",
    "                                         'dewpoint','dewpointi', 'cloudcover','cloudcoveri']]\n",
    "\n",
    "# testdf_complete = testdf_dropna.loc[:,['ora',\n",
    "#                                          'irradiamento','irri','cloudcover','cloudcoveri'\n",
    "#                                       ]]\n",
    "\n",
    "testdf_complete.head(3)"
   ]
  },
  {
   "cell_type": "code",
   "execution_count": null,
   "metadata": {
    "collapsed": false
   },
   "outputs": [],
   "source": [
    "modelfit = svm.SVR(C=100, gamma=0.1, epsilon=0.1).fit(X, Y)\n",
    "print('ok')"
   ]
  },
  {
   "cell_type": "code",
   "execution_count": null,
   "metadata": {
    "collapsed": false
   },
   "outputs": [],
   "source": [
    "pred_result = modelfit.predict(testdf_complete)"
   ]
  },
  {
   "cell_type": "code",
   "execution_count": null,
   "metadata": {
    "collapsed": false
   },
   "outputs": [],
   "source": [
    "# pred_result[140:150]"
   ]
  },
  {
   "cell_type": "code",
   "execution_count": null,
   "metadata": {
    "collapsed": false,
    "scrolled": true
   },
   "outputs": [],
   "source": [
    "# testdf_complete[140:150]"
   ]
  },
  {
   "cell_type": "code",
   "execution_count": null,
   "metadata": {
    "collapsed": false
   },
   "outputs": [],
   "source": [
    "kwh = pd.Series(pred_result)\n",
    "d = {'id': testdf['id'].tolist(), 'kwh': pred_result}\n",
    "result = pd.DataFrame(data=d)\n",
    "result.head()"
   ]
  },
  {
   "cell_type": "code",
   "execution_count": null,
   "metadata": {
    "collapsed": false
   },
   "outputs": [],
   "source": [
    "result.to_csv('wynik.csv',index=False)"
   ]
  },
  {
   "cell_type": "code",
   "execution_count": null,
   "metadata": {
    "collapsed": false
   },
   "outputs": [],
   "source": []
  }
 ],
 "metadata": {
  "anaconda-cloud": {},
  "kernelspec": {
   "display_name": "Python [conda root]",
   "language": "python",
   "name": "conda-root-py"
  },
  "language_info": {
   "codemirror_mode": {
    "name": "ipython",
    "version": 3
   },
   "file_extension": ".py",
   "mimetype": "text/x-python",
   "name": "python",
   "nbconvert_exporter": "python",
   "pygments_lexer": "ipython3",
   "version": "3.5.2"
  }
 },
 "nbformat": 4,
 "nbformat_minor": 1
}
