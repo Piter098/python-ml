{
 "cells": [
  {
   "cell_type": "code",
   "execution_count": 288,
   "metadata": {
    "collapsed": false
   },
   "outputs": [],
   "source": [
    "import pandas as pd\n",
    "import numpy as np\n",
    "from sklearn.model_selection import train_test_split\n",
    "from sklearn import svm\n",
    "from sklearn.linear_model import Lasso\n",
    "from sklearn.model_selection import GridSearchCV"
   ]
  },
  {
   "cell_type": "code",
   "execution_count": 289,
   "metadata": {
    "collapsed": false,
    "scrolled": true
   },
   "outputs": [
    {
     "data": {
      "text/plain": [
       "(235790, 5)"
      ]
     },
     "execution_count": 289,
     "metadata": {},
     "output_type": "execute_result"
    }
   ],
   "source": [
    "traindf = pd.read_csv(\"train.csv\")\n",
    "traindf_dropna = traindf#.dropna().sample(100000, random_state=12345)\n",
    "traindf_complete = traindf_dropna.loc[:,['ora',\n",
    "                                         'irr_pvgis_mod','irri_pvgis_mod',\n",
    "                                         #'temperatura_ambiente', 'tempi',\n",
    "                                         'irradiamento','irri',\n",
    "                                         #'pressure','pressurei', 'windspeed','windspeedi',\n",
    "                                         #'dewpoint','dewpointi', 'cloudcover','cloudcoveri',\n",
    "                                         'kwh']]\n",
    "\n",
    "\n",
    "# traindf_complete = traindf_dropna.loc[:,['ora',\n",
    "#                                          'irradiamento','irri','cloudcover','cloudcoveri',\n",
    "#                                          'kwh']]\n",
    "\n",
    "X = traindf_complete.drop(['kwh'], axis=1)\n",
    "Y = traindf_complete['kwh']\n",
    "\n",
    "X.shape\n"
   ]
  },
  {
   "cell_type": "code",
   "execution_count": 290,
   "metadata": {
    "collapsed": false
   },
   "outputs": [
    {
     "data": {
      "text/html": [
       "<div>\n",
       "<table border=\"1\" class=\"dataframe\">\n",
       "  <thead>\n",
       "    <tr style=\"text-align: right;\">\n",
       "      <th></th>\n",
       "      <th>ora</th>\n",
       "      <th>irr_pvgis_mod</th>\n",
       "      <th>irri_pvgis_mod</th>\n",
       "      <th>irradiamento</th>\n",
       "      <th>irri</th>\n",
       "    </tr>\n",
       "  </thead>\n",
       "  <tbody>\n",
       "    <tr>\n",
       "      <th>0</th>\n",
       "      <td>0.0</td>\n",
       "      <td>0.0</td>\n",
       "      <td>0.189</td>\n",
       "      <td>0.0</td>\n",
       "      <td>0.219</td>\n",
       "    </tr>\n",
       "    <tr>\n",
       "      <th>1</th>\n",
       "      <td>0.0</td>\n",
       "      <td>0.0</td>\n",
       "      <td>0.200</td>\n",
       "      <td>0.0</td>\n",
       "      <td>0.220</td>\n",
       "    </tr>\n",
       "    <tr>\n",
       "      <th>2</th>\n",
       "      <td>0.0</td>\n",
       "      <td>0.0</td>\n",
       "      <td>0.158</td>\n",
       "      <td>0.0</td>\n",
       "      <td>0.220</td>\n",
       "    </tr>\n",
       "    <tr>\n",
       "      <th>3</th>\n",
       "      <td>0.0</td>\n",
       "      <td>0.0</td>\n",
       "      <td>0.204</td>\n",
       "      <td>0.0</td>\n",
       "      <td>0.220</td>\n",
       "    </tr>\n",
       "    <tr>\n",
       "      <th>4</th>\n",
       "      <td>0.0</td>\n",
       "      <td>0.0</td>\n",
       "      <td>0.199</td>\n",
       "      <td>0.0</td>\n",
       "      <td>0.220</td>\n",
       "    </tr>\n",
       "  </tbody>\n",
       "</table>\n",
       "</div>"
      ],
      "text/plain": [
       "   ora  irr_pvgis_mod  irri_pvgis_mod  irradiamento   irri\n",
       "0  0.0            0.0           0.189           0.0  0.219\n",
       "1  0.0            0.0           0.200           0.0  0.220\n",
       "2  0.0            0.0           0.158           0.0  0.220\n",
       "3  0.0            0.0           0.204           0.0  0.220\n",
       "4  0.0            0.0           0.199           0.0  0.220"
      ]
     },
     "execution_count": 290,
     "metadata": {},
     "output_type": "execute_result"
    }
   ],
   "source": [
    "X.head()"
   ]
  },
  {
   "cell_type": "code",
   "execution_count": 291,
   "metadata": {
    "collapsed": false
   },
   "outputs": [
    {
     "data": {
      "text/plain": [
       "213093    0.000\n",
       "154179    0.165\n",
       "38732     0.000\n",
       "171709    0.479\n",
       "81522     0.101\n",
       "231694    0.291\n",
       "211268    0.173\n",
       "149696    0.778\n",
       "182116    0.511\n",
       "8691      0.000\n",
       "Name: kwh, dtype: float64"
      ]
     },
     "execution_count": 291,
     "metadata": {},
     "output_type": "execute_result"
    }
   ],
   "source": [
    "x_train,x_test,y_train,y_test = train_test_split(X,Y, test_size=0.2)\n",
    "\n",
    "y_test.head(10)"
   ]
  },
  {
   "cell_type": "code",
   "execution_count": 292,
   "metadata": {
    "collapsed": false
   },
   "outputs": [],
   "source": [
    "# %%time\n",
    "# # clf = svm.SVR(C=1, gamma=0.1, epsilon=0.1).fit(x_train, y_train)\n",
    "\n",
    "# lss = Lasso(random_state=0, max_iter=1000)\n",
    "# aaa = np.logspace(-10, -5, 30)\n",
    "# par = [{'alpha': alphas}]\n",
    "# nnn = 3\n",
    "\n",
    "# clf = GridSearchCV(lss, par, cv=nnn, refit=True)\n",
    "# clf.fit(x_train,y_train)"
   ]
  },
  {
   "cell_type": "code",
   "execution_count": 293,
   "metadata": {
    "collapsed": false
   },
   "outputs": [],
   "source": [
    "# clf.score(x_test, y_test)\n",
    "# clf.best_score_"
   ]
  },
  {
   "cell_type": "code",
   "execution_count": 294,
   "metadata": {
    "collapsed": false
   },
   "outputs": [],
   "source": [
    "# clf.best_params_"
   ]
  },
  {
   "cell_type": "code",
   "execution_count": 295,
   "metadata": {
    "collapsed": false
   },
   "outputs": [],
   "source": [
    "# from sklearn.metrics import mean_squared_error\n",
    "# yyy = clf.predict(x_test)\n",
    "# mean_squared_error(y_test, yyy)"
   ]
  },
  {
   "cell_type": "code",
   "execution_count": 296,
   "metadata": {
    "collapsed": false
   },
   "outputs": [],
   "source": [
    "# yyy[:10]"
   ]
  },
  {
   "cell_type": "code",
   "execution_count": 297,
   "metadata": {
    "collapsed": true
   },
   "outputs": [],
   "source": [
    "#####################################################################"
   ]
  },
  {
   "cell_type": "code",
   "execution_count": 298,
   "metadata": {
    "collapsed": false
   },
   "outputs": [
    {
     "data": {
      "text/html": [
       "<div>\n",
       "<table border=\"1\" class=\"dataframe\">\n",
       "  <thead>\n",
       "    <tr style=\"text-align: right;\">\n",
       "      <th></th>\n",
       "      <th>ora</th>\n",
       "      <th>irr_pvgis_mod</th>\n",
       "      <th>irri_pvgis_mod</th>\n",
       "      <th>irradiamento</th>\n",
       "      <th>irri</th>\n",
       "    </tr>\n",
       "  </thead>\n",
       "  <tbody>\n",
       "    <tr>\n",
       "      <th>0</th>\n",
       "      <td>0.0</td>\n",
       "      <td>0.0</td>\n",
       "      <td>0.086</td>\n",
       "      <td>0.0</td>\n",
       "      <td>0.218</td>\n",
       "    </tr>\n",
       "    <tr>\n",
       "      <th>1</th>\n",
       "      <td>0.0</td>\n",
       "      <td>0.0</td>\n",
       "      <td>0.086</td>\n",
       "      <td>0.0</td>\n",
       "      <td>0.218</td>\n",
       "    </tr>\n",
       "    <tr>\n",
       "      <th>2</th>\n",
       "      <td>0.0</td>\n",
       "      <td>0.0</td>\n",
       "      <td>0.086</td>\n",
       "      <td>0.0</td>\n",
       "      <td>0.218</td>\n",
       "    </tr>\n",
       "  </tbody>\n",
       "</table>\n",
       "</div>"
      ],
      "text/plain": [
       "   ora  irr_pvgis_mod  irri_pvgis_mod  irradiamento   irri\n",
       "0  0.0            0.0           0.086           0.0  0.218\n",
       "1  0.0            0.0           0.086           0.0  0.218\n",
       "2  0.0            0.0           0.086           0.0  0.218"
      ]
     },
     "execution_count": 298,
     "metadata": {},
     "output_type": "execute_result"
    }
   ],
   "source": [
    "\n",
    "testdf = pd.read_csv(\"test.csv\")\n",
    "# testdf_dropna = testdf.dropna()\n",
    "testdf_complete = testdf.loc[:,['ora',\n",
    "                                         'irr_pvgis_mod','irri_pvgis_mod',\n",
    "                                         #'temperatura_ambiente', 'tempi',\n",
    "                                         'irradiamento','irri',\n",
    "                                         #'pressure','pressurei', 'windspeed','windspeedi',\n",
    "                                         #'dewpoint','dewpointi', 'cloudcover','cloudcoveri'\n",
    "                               ]]\n",
    "\n",
    "# testdf_complete = testdf_dropna.loc[:,['ora',\n",
    "#                                          'irradiamento','irri','cloudcover','cloudcoveri'\n",
    "#                                       ]]\n",
    "\n",
    "testdf_complete.head(3)"
   ]
  },
  {
   "cell_type": "code",
   "execution_count": 299,
   "metadata": {
    "collapsed": false
   },
   "outputs": [
    {
     "name": "stdout",
     "output_type": "stream",
     "text": [
      "Wall time: 41 s\n"
     ]
    }
   ],
   "source": [
    "%%time\n",
    "# modelfit = svm.SVR(C=1, gamma=1, epsilon=0.1).fit(X, Y)\n",
    "\n",
    "lasso = Lasso(random_state=0, max_iter=1000)\n",
    "alphas = np.logspace(-10, -5, 30)\n",
    "tuned_parameters = [{'alpha': alphas}]\n",
    "n_folds = 3\n",
    "\n",
    "modelfit = GridSearchCV(lasso, tuned_parameters, cv=n_folds, refit=True)\n",
    "modelfit.fit(X,Y)"
   ]
  },
  {
   "cell_type": "code",
   "execution_count": 300,
   "metadata": {
    "collapsed": false
   },
   "outputs": [
    {
     "name": "stdout",
     "output_type": "stream",
     "text": [
      "Wall time: 4.5 ms\n"
     ]
    }
   ],
   "source": [
    "%%time\n",
    "pred_result = modelfit.predict(testdf_complete)"
   ]
  },
  {
   "cell_type": "code",
   "execution_count": 301,
   "metadata": {
    "collapsed": false
   },
   "outputs": [
    {
     "data": {
      "text/plain": [
       "array([ 0.05005957,  0.1324699 ,  0.19114541,  0.20249133,  0.07894999,\n",
       "        0.17782097,  0.15809252,  0.21215375,  0.15595205,  0.06251379])"
      ]
     },
     "execution_count": 301,
     "metadata": {},
     "output_type": "execute_result"
    }
   ],
   "source": [
    "pred_result[140:150]"
   ]
  },
  {
   "cell_type": "code",
   "execution_count": 302,
   "metadata": {
    "collapsed": false,
    "scrolled": true
   },
   "outputs": [
    {
     "data": {
      "text/html": [
       "<div>\n",
       "<table border=\"1\" class=\"dataframe\">\n",
       "  <thead>\n",
       "    <tr style=\"text-align: right;\">\n",
       "      <th></th>\n",
       "      <th>ora</th>\n",
       "      <th>irr_pvgis_mod</th>\n",
       "      <th>irri_pvgis_mod</th>\n",
       "      <th>irradiamento</th>\n",
       "      <th>irri</th>\n",
       "    </tr>\n",
       "  </thead>\n",
       "  <tbody>\n",
       "    <tr>\n",
       "      <th>140</th>\n",
       "      <td>0.444</td>\n",
       "      <td>0.026</td>\n",
       "      <td>0.199</td>\n",
       "      <td>0.026</td>\n",
       "      <td>0.236</td>\n",
       "    </tr>\n",
       "    <tr>\n",
       "      <th>141</th>\n",
       "      <td>0.444</td>\n",
       "      <td>0.185</td>\n",
       "      <td>0.223</td>\n",
       "      <td>0.056</td>\n",
       "      <td>0.245</td>\n",
       "    </tr>\n",
       "    <tr>\n",
       "      <th>142</th>\n",
       "      <td>0.444</td>\n",
       "      <td>0.198</td>\n",
       "      <td>0.086</td>\n",
       "      <td>0.098</td>\n",
       "      <td>0.218</td>\n",
       "    </tr>\n",
       "    <tr>\n",
       "      <th>143</th>\n",
       "      <td>0.444</td>\n",
       "      <td>0.325</td>\n",
       "      <td>0.086</td>\n",
       "      <td>0.051</td>\n",
       "      <td>0.218</td>\n",
       "    </tr>\n",
       "    <tr>\n",
       "      <th>144</th>\n",
       "      <td>0.444</td>\n",
       "      <td>0.035</td>\n",
       "      <td>0.086</td>\n",
       "      <td>0.035</td>\n",
       "      <td>0.218</td>\n",
       "    </tr>\n",
       "    <tr>\n",
       "      <th>145</th>\n",
       "      <td>0.444</td>\n",
       "      <td>0.297</td>\n",
       "      <td>0.092</td>\n",
       "      <td>0.035</td>\n",
       "      <td>0.218</td>\n",
       "    </tr>\n",
       "    <tr>\n",
       "      <th>146</th>\n",
       "      <td>0.444</td>\n",
       "      <td>0.256</td>\n",
       "      <td>0.218</td>\n",
       "      <td>0.054</td>\n",
       "      <td>0.242</td>\n",
       "    </tr>\n",
       "    <tr>\n",
       "      <th>147</th>\n",
       "      <td>0.444</td>\n",
       "      <td>0.140</td>\n",
       "      <td>0.092</td>\n",
       "      <td>0.140</td>\n",
       "      <td>0.251</td>\n",
       "    </tr>\n",
       "    <tr>\n",
       "      <th>148</th>\n",
       "      <td>0.444</td>\n",
       "      <td>0.201</td>\n",
       "      <td>0.092</td>\n",
       "      <td>0.046</td>\n",
       "      <td>0.236</td>\n",
       "    </tr>\n",
       "    <tr>\n",
       "      <th>149</th>\n",
       "      <td>0.444</td>\n",
       "      <td>0.021</td>\n",
       "      <td>0.086</td>\n",
       "      <td>0.021</td>\n",
       "      <td>0.218</td>\n",
       "    </tr>\n",
       "  </tbody>\n",
       "</table>\n",
       "</div>"
      ],
      "text/plain": [
       "       ora  irr_pvgis_mod  irri_pvgis_mod  irradiamento   irri\n",
       "140  0.444          0.026           0.199         0.026  0.236\n",
       "141  0.444          0.185           0.223         0.056  0.245\n",
       "142  0.444          0.198           0.086         0.098  0.218\n",
       "143  0.444          0.325           0.086         0.051  0.218\n",
       "144  0.444          0.035           0.086         0.035  0.218\n",
       "145  0.444          0.297           0.092         0.035  0.218\n",
       "146  0.444          0.256           0.218         0.054  0.242\n",
       "147  0.444          0.140           0.092         0.140  0.251\n",
       "148  0.444          0.201           0.092         0.046  0.236\n",
       "149  0.444          0.021           0.086         0.021  0.218"
      ]
     },
     "execution_count": 302,
     "metadata": {},
     "output_type": "execute_result"
    }
   ],
   "source": [
    "testdf_complete[140:150]"
   ]
  },
  {
   "cell_type": "code",
   "execution_count": 303,
   "metadata": {
    "collapsed": false
   },
   "outputs": [
    {
     "data": {
      "text/html": [
       "<div>\n",
       "<table border=\"1\" class=\"dataframe\">\n",
       "  <thead>\n",
       "    <tr style=\"text-align: right;\">\n",
       "      <th></th>\n",
       "      <th>Id</th>\n",
       "      <th>kwh</th>\n",
       "    </tr>\n",
       "  </thead>\n",
       "  <tbody>\n",
       "    <tr>\n",
       "      <th>0</th>\n",
       "      <td>34255</td>\n",
       "      <td>0.041448</td>\n",
       "    </tr>\n",
       "    <tr>\n",
       "      <th>1</th>\n",
       "      <td>34282</td>\n",
       "      <td>0.041448</td>\n",
       "    </tr>\n",
       "    <tr>\n",
       "      <th>2</th>\n",
       "      <td>34375</td>\n",
       "      <td>0.041448</td>\n",
       "    </tr>\n",
       "    <tr>\n",
       "      <th>3</th>\n",
       "      <td>34572</td>\n",
       "      <td>0.041448</td>\n",
       "    </tr>\n",
       "    <tr>\n",
       "      <th>4</th>\n",
       "      <td>34660</td>\n",
       "      <td>0.042622</td>\n",
       "    </tr>\n",
       "    <tr>\n",
       "      <th>5</th>\n",
       "      <td>34761</td>\n",
       "      <td>0.041448</td>\n",
       "    </tr>\n",
       "    <tr>\n",
       "      <th>6</th>\n",
       "      <td>34814</td>\n",
       "      <td>0.041448</td>\n",
       "    </tr>\n",
       "    <tr>\n",
       "      <th>7</th>\n",
       "      <td>34888</td>\n",
       "      <td>0.041448</td>\n",
       "    </tr>\n",
       "    <tr>\n",
       "      <th>8</th>\n",
       "      <td>34913</td>\n",
       "      <td>0.041448</td>\n",
       "    </tr>\n",
       "    <tr>\n",
       "      <th>9</th>\n",
       "      <td>34987</td>\n",
       "      <td>0.041448</td>\n",
       "    </tr>\n",
       "    <tr>\n",
       "      <th>10</th>\n",
       "      <td>35099</td>\n",
       "      <td>0.041448</td>\n",
       "    </tr>\n",
       "    <tr>\n",
       "      <th>11</th>\n",
       "      <td>35254</td>\n",
       "      <td>0.041448</td>\n",
       "    </tr>\n",
       "    <tr>\n",
       "      <th>12</th>\n",
       "      <td>35275</td>\n",
       "      <td>0.041448</td>\n",
       "    </tr>\n",
       "    <tr>\n",
       "      <th>13</th>\n",
       "      <td>35304</td>\n",
       "      <td>0.041448</td>\n",
       "    </tr>\n",
       "    <tr>\n",
       "      <th>14</th>\n",
       "      <td>35378</td>\n",
       "      <td>0.041448</td>\n",
       "    </tr>\n",
       "    <tr>\n",
       "      <th>15</th>\n",
       "      <td>35381</td>\n",
       "      <td>0.041448</td>\n",
       "    </tr>\n",
       "    <tr>\n",
       "      <th>16</th>\n",
       "      <td>35422</td>\n",
       "      <td>0.041448</td>\n",
       "    </tr>\n",
       "    <tr>\n",
       "      <th>17</th>\n",
       "      <td>34363</td>\n",
       "      <td>0.040995</td>\n",
       "    </tr>\n",
       "    <tr>\n",
       "      <th>18</th>\n",
       "      <td>34426</td>\n",
       "      <td>0.040995</td>\n",
       "    </tr>\n",
       "    <tr>\n",
       "      <th>19</th>\n",
       "      <td>34539</td>\n",
       "      <td>0.040995</td>\n",
       "    </tr>\n",
       "    <tr>\n",
       "      <th>20</th>\n",
       "      <td>34582</td>\n",
       "      <td>0.040995</td>\n",
       "    </tr>\n",
       "    <tr>\n",
       "      <th>21</th>\n",
       "      <td>34596</td>\n",
       "      <td>0.040995</td>\n",
       "    </tr>\n",
       "    <tr>\n",
       "      <th>22</th>\n",
       "      <td>34634</td>\n",
       "      <td>0.040995</td>\n",
       "    </tr>\n",
       "    <tr>\n",
       "      <th>23</th>\n",
       "      <td>34842</td>\n",
       "      <td>0.040995</td>\n",
       "    </tr>\n",
       "    <tr>\n",
       "      <th>24</th>\n",
       "      <td>34954</td>\n",
       "      <td>0.040995</td>\n",
       "    </tr>\n",
       "    <tr>\n",
       "      <th>25</th>\n",
       "      <td>35001</td>\n",
       "      <td>0.040995</td>\n",
       "    </tr>\n",
       "    <tr>\n",
       "      <th>26</th>\n",
       "      <td>35039</td>\n",
       "      <td>0.040995</td>\n",
       "    </tr>\n",
       "    <tr>\n",
       "      <th>27</th>\n",
       "      <td>35103</td>\n",
       "      <td>0.042170</td>\n",
       "    </tr>\n",
       "    <tr>\n",
       "      <th>28</th>\n",
       "      <td>35157</td>\n",
       "      <td>0.040995</td>\n",
       "    </tr>\n",
       "    <tr>\n",
       "      <th>29</th>\n",
       "      <td>35232</td>\n",
       "      <td>0.040995</td>\n",
       "    </tr>\n",
       "    <tr>\n",
       "      <th>...</th>\n",
       "      <td>...</td>\n",
       "      <td>...</td>\n",
       "    </tr>\n",
       "    <tr>\n",
       "      <th>170</th>\n",
       "      <td>34164</td>\n",
       "      <td>0.165740</td>\n",
       "    </tr>\n",
       "    <tr>\n",
       "      <th>171</th>\n",
       "      <td>34294</td>\n",
       "      <td>0.212870</td>\n",
       "    </tr>\n",
       "    <tr>\n",
       "      <th>172</th>\n",
       "      <td>34651</td>\n",
       "      <td>0.179072</td>\n",
       "    </tr>\n",
       "    <tr>\n",
       "      <th>173</th>\n",
       "      <td>34702</td>\n",
       "      <td>0.050021</td>\n",
       "    </tr>\n",
       "    <tr>\n",
       "      <th>174</th>\n",
       "      <td>34723</td>\n",
       "      <td>0.111917</td>\n",
       "    </tr>\n",
       "    <tr>\n",
       "      <th>175</th>\n",
       "      <td>34754</td>\n",
       "      <td>0.153471</td>\n",
       "    </tr>\n",
       "    <tr>\n",
       "      <th>176</th>\n",
       "      <td>34783</td>\n",
       "      <td>0.233351</td>\n",
       "    </tr>\n",
       "    <tr>\n",
       "      <th>177</th>\n",
       "      <td>34796</td>\n",
       "      <td>0.180071</td>\n",
       "    </tr>\n",
       "    <tr>\n",
       "      <th>178</th>\n",
       "      <td>35064</td>\n",
       "      <td>0.079219</td>\n",
       "    </tr>\n",
       "    <tr>\n",
       "      <th>179</th>\n",
       "      <td>35070</td>\n",
       "      <td>0.152686</td>\n",
       "    </tr>\n",
       "    <tr>\n",
       "      <th>180</th>\n",
       "      <td>35110</td>\n",
       "      <td>0.188426</td>\n",
       "    </tr>\n",
       "    <tr>\n",
       "      <th>181</th>\n",
       "      <td>35220</td>\n",
       "      <td>0.230868</td>\n",
       "    </tr>\n",
       "    <tr>\n",
       "      <th>182</th>\n",
       "      <td>35228</td>\n",
       "      <td>0.055738</td>\n",
       "    </tr>\n",
       "    <tr>\n",
       "      <th>183</th>\n",
       "      <td>35414</td>\n",
       "      <td>0.134331</td>\n",
       "    </tr>\n",
       "    <tr>\n",
       "      <th>184</th>\n",
       "      <td>35448</td>\n",
       "      <td>0.185348</td>\n",
       "    </tr>\n",
       "    <tr>\n",
       "      <th>185</th>\n",
       "      <td>35500</td>\n",
       "      <td>0.062502</td>\n",
       "    </tr>\n",
       "    <tr>\n",
       "      <th>186</th>\n",
       "      <td>35528</td>\n",
       "      <td>0.082560</td>\n",
       "    </tr>\n",
       "    <tr>\n",
       "      <th>187</th>\n",
       "      <td>34268</td>\n",
       "      <td>0.049424</td>\n",
       "    </tr>\n",
       "    <tr>\n",
       "      <th>188</th>\n",
       "      <td>34401</td>\n",
       "      <td>0.081620</td>\n",
       "    </tr>\n",
       "    <tr>\n",
       "      <th>189</th>\n",
       "      <td>34414</td>\n",
       "      <td>0.055294</td>\n",
       "    </tr>\n",
       "    <tr>\n",
       "      <th>190</th>\n",
       "      <td>34523</td>\n",
       "      <td>0.105321</td>\n",
       "    </tr>\n",
       "    <tr>\n",
       "      <th>191</th>\n",
       "      <td>34547</td>\n",
       "      <td>0.126082</td>\n",
       "    </tr>\n",
       "    <tr>\n",
       "      <th>192</th>\n",
       "      <td>34625</td>\n",
       "      <td>0.146763</td>\n",
       "    </tr>\n",
       "    <tr>\n",
       "      <th>193</th>\n",
       "      <td>34664</td>\n",
       "      <td>0.074078</td>\n",
       "    </tr>\n",
       "    <tr>\n",
       "      <th>194</th>\n",
       "      <td>34831</td>\n",
       "      <td>0.183088</td>\n",
       "    </tr>\n",
       "    <tr>\n",
       "      <th>195</th>\n",
       "      <td>34942</td>\n",
       "      <td>0.153660</td>\n",
       "    </tr>\n",
       "    <tr>\n",
       "      <th>196</th>\n",
       "      <td>34960</td>\n",
       "      <td>0.113079</td>\n",
       "    </tr>\n",
       "    <tr>\n",
       "      <th>197</th>\n",
       "      <td>34964</td>\n",
       "      <td>0.172815</td>\n",
       "    </tr>\n",
       "    <tr>\n",
       "      <th>198</th>\n",
       "      <td>35027</td>\n",
       "      <td>0.096454</td>\n",
       "    </tr>\n",
       "    <tr>\n",
       "      <th>199</th>\n",
       "      <td>35033</td>\n",
       "      <td>0.035365</td>\n",
       "    </tr>\n",
       "  </tbody>\n",
       "</table>\n",
       "<p>200 rows × 2 columns</p>\n",
       "</div>"
      ],
      "text/plain": [
       "        Id       kwh\n",
       "0    34255  0.041448\n",
       "1    34282  0.041448\n",
       "2    34375  0.041448\n",
       "3    34572  0.041448\n",
       "4    34660  0.042622\n",
       "5    34761  0.041448\n",
       "6    34814  0.041448\n",
       "7    34888  0.041448\n",
       "8    34913  0.041448\n",
       "9    34987  0.041448\n",
       "10   35099  0.041448\n",
       "11   35254  0.041448\n",
       "12   35275  0.041448\n",
       "13   35304  0.041448\n",
       "14   35378  0.041448\n",
       "15   35381  0.041448\n",
       "16   35422  0.041448\n",
       "17   34363  0.040995\n",
       "18   34426  0.040995\n",
       "19   34539  0.040995\n",
       "20   34582  0.040995\n",
       "21   34596  0.040995\n",
       "22   34634  0.040995\n",
       "23   34842  0.040995\n",
       "24   34954  0.040995\n",
       "25   35001  0.040995\n",
       "26   35039  0.040995\n",
       "27   35103  0.042170\n",
       "28   35157  0.040995\n",
       "29   35232  0.040995\n",
       "..     ...       ...\n",
       "170  34164  0.165740\n",
       "171  34294  0.212870\n",
       "172  34651  0.179072\n",
       "173  34702  0.050021\n",
       "174  34723  0.111917\n",
       "175  34754  0.153471\n",
       "176  34783  0.233351\n",
       "177  34796  0.180071\n",
       "178  35064  0.079219\n",
       "179  35070  0.152686\n",
       "180  35110  0.188426\n",
       "181  35220  0.230868\n",
       "182  35228  0.055738\n",
       "183  35414  0.134331\n",
       "184  35448  0.185348\n",
       "185  35500  0.062502\n",
       "186  35528  0.082560\n",
       "187  34268  0.049424\n",
       "188  34401  0.081620\n",
       "189  34414  0.055294\n",
       "190  34523  0.105321\n",
       "191  34547  0.126082\n",
       "192  34625  0.146763\n",
       "193  34664  0.074078\n",
       "194  34831  0.183088\n",
       "195  34942  0.153660\n",
       "196  34960  0.113079\n",
       "197  34964  0.172815\n",
       "198  35027  0.096454\n",
       "199  35033  0.035365\n",
       "\n",
       "[200 rows x 2 columns]"
      ]
     },
     "execution_count": 303,
     "metadata": {},
     "output_type": "execute_result"
    }
   ],
   "source": [
    "kwh = pd.Series(pred_result)\n",
    "non_negative = pred_result\n",
    "non_negative[non_negative < 0] = 0\n",
    "d = {'Id': testdf['id'].tolist(), 'kwh': non_negative}\n",
    "result = pd.DataFrame(data=d)\n",
    "result.head(200)"
   ]
  },
  {
   "cell_type": "code",
   "execution_count": 304,
   "metadata": {
    "collapsed": false
   },
   "outputs": [],
   "source": [
    "result.to_csv('wynik.csv',index=False)"
   ]
  },
  {
   "cell_type": "code",
   "execution_count": 305,
   "metadata": {
    "collapsed": false
   },
   "outputs": [
    {
     "name": "stdout",
     "output_type": "stream",
     "text": [
      "test\n"
     ]
    }
   ],
   "source": [
    "print('test')"
   ]
  },
  {
   "cell_type": "code",
   "execution_count": null,
   "metadata": {
    "collapsed": true
   },
   "outputs": [],
   "source": []
  }
 ],
 "metadata": {
  "anaconda-cloud": {},
  "kernelspec": {
   "display_name": "Python [conda root]",
   "language": "python",
   "name": "conda-root-py"
  },
  "language_info": {
   "codemirror_mode": {
    "name": "ipython",
    "version": 3
   },
   "file_extension": ".py",
   "mimetype": "text/x-python",
   "name": "python",
   "nbconvert_exporter": "python",
   "pygments_lexer": "ipython3",
   "version": "3.5.2"
  }
 },
 "nbformat": 4,
 "nbformat_minor": 1
}
