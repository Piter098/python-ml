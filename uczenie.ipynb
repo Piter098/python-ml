{
 "cells": [
  {
   "cell_type": "code",
   "execution_count": 2,
   "metadata": {
    "collapsed": false
   },
   "outputs": [],
   "source": [
    "import pandas as pd\n",
    "import numpy as np\n",
    "from sklearn.model_selection import train_test_split\n",
    "from sklearn import svm"
   ]
  },
  {
   "cell_type": "code",
   "execution_count": 11,
   "metadata": {
    "collapsed": false,
    "scrolled": true
   },
   "outputs": [
    {
     "data": {
      "text/plain": [
       "(100000, 15)"
      ]
     },
     "execution_count": 11,
     "metadata": {},
     "output_type": "execute_result"
    }
   ],
   "source": [
    "traindf = pd.read_csv(\"train.csv\")\n",
    "traindf_dropna = traindf.dropna().sample(100000, random_state=12345)\n",
    "traindf_complete = traindf_dropna.loc[:,['ora',\n",
    "                                         'irr_pvgis_mod','irri_pvgis_mod',\n",
    "                                         'temperatura_ambiente', 'tempi',\n",
    "                                         'irradiamento','irri',\n",
    "                                         'pressure','pressurei', 'windspeed','windspeedi',\n",
    "                                         'dewpoint','dewpointi', 'cloudcover','cloudcoveri', 'kwh']]\n",
    "\n",
    "\n",
    "# traindf_complete = traindf_dropna.loc[:,['ora',\n",
    "#                                          'irradiamento','irri','cloudcover','cloudcoveri',\n",
    "#                                          'kwh']]\n",
    "\n",
    "X = traindf_complete.drop(['kwh'], axis=1)\n",
    "Y = traindf_complete['kwh']\n",
    "\n",
    "X.shape\n"
   ]
  },
  {
   "cell_type": "code",
   "execution_count": 12,
   "metadata": {
    "collapsed": false
   },
   "outputs": [
    {
     "data": {
      "text/html": [
       "<div>\n",
       "<table border=\"1\" class=\"dataframe\">\n",
       "  <thead>\n",
       "    <tr style=\"text-align: right;\">\n",
       "      <th></th>\n",
       "      <th>ora</th>\n",
       "      <th>irr_pvgis_mod</th>\n",
       "      <th>irri_pvgis_mod</th>\n",
       "      <th>temperatura_ambiente</th>\n",
       "      <th>tempi</th>\n",
       "      <th>irradiamento</th>\n",
       "      <th>irri</th>\n",
       "      <th>pressure</th>\n",
       "      <th>pressurei</th>\n",
       "      <th>windspeed</th>\n",
       "      <th>windspeedi</th>\n",
       "      <th>dewpoint</th>\n",
       "      <th>dewpointi</th>\n",
       "      <th>cloudcover</th>\n",
       "      <th>cloudcoveri</th>\n",
       "    </tr>\n",
       "  </thead>\n",
       "  <tbody>\n",
       "    <tr>\n",
       "      <th>16428</th>\n",
       "      <td>0.889</td>\n",
       "      <td>0.000</td>\n",
       "      <td>0.202</td>\n",
       "      <td>0.333</td>\n",
       "      <td>0.109</td>\n",
       "      <td>0.000</td>\n",
       "      <td>0.220</td>\n",
       "      <td>0.761</td>\n",
       "      <td>0.0</td>\n",
       "      <td>0.064</td>\n",
       "      <td>0.039</td>\n",
       "      <td>0.580</td>\n",
       "      <td>0.171</td>\n",
       "      <td>0.89</td>\n",
       "      <td>0.200</td>\n",
       "    </tr>\n",
       "    <tr>\n",
       "      <th>116470</th>\n",
       "      <td>0.222</td>\n",
       "      <td>0.000</td>\n",
       "      <td>0.212</td>\n",
       "      <td>0.212</td>\n",
       "      <td>0.110</td>\n",
       "      <td>0.009</td>\n",
       "      <td>0.221</td>\n",
       "      <td>0.757</td>\n",
       "      <td>0.0</td>\n",
       "      <td>0.051</td>\n",
       "      <td>0.038</td>\n",
       "      <td>0.564</td>\n",
       "      <td>0.114</td>\n",
       "      <td>0.31</td>\n",
       "      <td>0.189</td>\n",
       "    </tr>\n",
       "    <tr>\n",
       "      <th>58707</th>\n",
       "      <td>0.778</td>\n",
       "      <td>0.115</td>\n",
       "      <td>0.173</td>\n",
       "      <td>0.606</td>\n",
       "      <td>0.291</td>\n",
       "      <td>0.084</td>\n",
       "      <td>0.218</td>\n",
       "      <td>0.000</td>\n",
       "      <td>0.0</td>\n",
       "      <td>0.056</td>\n",
       "      <td>0.038</td>\n",
       "      <td>0.782</td>\n",
       "      <td>0.114</td>\n",
       "      <td>0.37</td>\n",
       "      <td>0.189</td>\n",
       "    </tr>\n",
       "    <tr>\n",
       "      <th>511</th>\n",
       "      <td>0.611</td>\n",
       "      <td>0.316</td>\n",
       "      <td>0.161</td>\n",
       "      <td>0.424</td>\n",
       "      <td>0.176</td>\n",
       "      <td>0.252</td>\n",
       "      <td>0.219</td>\n",
       "      <td>0.759</td>\n",
       "      <td>0.0</td>\n",
       "      <td>0.107</td>\n",
       "      <td>0.047</td>\n",
       "      <td>0.601</td>\n",
       "      <td>0.114</td>\n",
       "      <td>0.31</td>\n",
       "      <td>0.199</td>\n",
       "    </tr>\n",
       "    <tr>\n",
       "      <th>8921</th>\n",
       "      <td>0.611</td>\n",
       "      <td>0.000</td>\n",
       "      <td>0.158</td>\n",
       "      <td>0.364</td>\n",
       "      <td>0.130</td>\n",
       "      <td>0.019</td>\n",
       "      <td>0.213</td>\n",
       "      <td>0.756</td>\n",
       "      <td>0.0</td>\n",
       "      <td>0.061</td>\n",
       "      <td>0.039</td>\n",
       "      <td>0.521</td>\n",
       "      <td>0.118</td>\n",
       "      <td>0.31</td>\n",
       "      <td>0.189</td>\n",
       "    </tr>\n",
       "  </tbody>\n",
       "</table>\n",
       "</div>"
      ],
      "text/plain": [
       "          ora  irr_pvgis_mod  irri_pvgis_mod  temperatura_ambiente  tempi  \\\n",
       "16428   0.889          0.000           0.202                 0.333  0.109   \n",
       "116470  0.222          0.000           0.212                 0.212  0.110   \n",
       "58707   0.778          0.115           0.173                 0.606  0.291   \n",
       "511     0.611          0.316           0.161                 0.424  0.176   \n",
       "8921    0.611          0.000           0.158                 0.364  0.130   \n",
       "\n",
       "        irradiamento   irri  pressure  pressurei  windspeed  windspeedi  \\\n",
       "16428          0.000  0.220     0.761        0.0      0.064       0.039   \n",
       "116470         0.009  0.221     0.757        0.0      0.051       0.038   \n",
       "58707          0.084  0.218     0.000        0.0      0.056       0.038   \n",
       "511            0.252  0.219     0.759        0.0      0.107       0.047   \n",
       "8921           0.019  0.213     0.756        0.0      0.061       0.039   \n",
       "\n",
       "        dewpoint  dewpointi  cloudcover  cloudcoveri  \n",
       "16428      0.580      0.171        0.89        0.200  \n",
       "116470     0.564      0.114        0.31        0.189  \n",
       "58707      0.782      0.114        0.37        0.189  \n",
       "511        0.601      0.114        0.31        0.199  \n",
       "8921       0.521      0.118        0.31        0.189  "
      ]
     },
     "execution_count": 12,
     "metadata": {},
     "output_type": "execute_result"
    }
   ],
   "source": [
    "X.head()"
   ]
  },
  {
   "cell_type": "code",
   "execution_count": 5,
   "metadata": {
    "collapsed": false
   },
   "outputs": [
    {
     "data": {
      "text/plain": [
       "52978     0.000\n",
       "96292     0.000\n",
       "190842    0.000\n",
       "26432     0.006\n",
       "140498    0.000\n",
       "53847     0.248\n",
       "15744     0.102\n",
       "163861    0.267\n",
       "52382     0.099\n",
       "71018     0.469\n",
       "Name: kwh, dtype: float64"
      ]
     },
     "execution_count": 5,
     "metadata": {},
     "output_type": "execute_result"
    }
   ],
   "source": [
    "# x_train,x_test,y_train,y_test = train_test_split(X,Y, test_size=0.2)\n",
    "\n",
    "# y_test.head(10)"
   ]
  },
  {
   "cell_type": "code",
   "execution_count": 6,
   "metadata": {
    "collapsed": false
   },
   "outputs": [
    {
     "name": "stdout",
     "output_type": "stream",
     "text": [
      "Wall time: 1min 10s\n"
     ]
    }
   ],
   "source": [
    "# %%time\n",
    "# clf = svm.SVR(C=1, gamma=0.1, epsilon=0.1).fit(x_train, y_train)\n"
   ]
  },
  {
   "cell_type": "code",
   "execution_count": 7,
   "metadata": {
    "collapsed": false
   },
   "outputs": [
    {
     "data": {
      "text/plain": [
       "0.8092048615420675"
      ]
     },
     "execution_count": 7,
     "metadata": {},
     "output_type": "execute_result"
    }
   ],
   "source": [
    "# clf.score(x_test, y_test)"
   ]
  },
  {
   "cell_type": "code",
   "execution_count": 8,
   "metadata": {
    "collapsed": false
   },
   "outputs": [
    {
     "data": {
      "text/plain": [
       "0.0085360849425204343"
      ]
     },
     "execution_count": 8,
     "metadata": {},
     "output_type": "execute_result"
    }
   ],
   "source": [
    "# from sklearn.metrics import mean_squared_error\n",
    "# yyy = clf.predict(x_test)\n",
    "# mean_squared_error(y_test, yyy)"
   ]
  },
  {
   "cell_type": "code",
   "execution_count": null,
   "metadata": {
    "collapsed": true
   },
   "outputs": [],
   "source": [
    "#####################################################################"
   ]
  },
  {
   "cell_type": "code",
   "execution_count": 13,
   "metadata": {
    "collapsed": false
   },
   "outputs": [
    {
     "data": {
      "text/html": [
       "<div>\n",
       "<table border=\"1\" class=\"dataframe\">\n",
       "  <thead>\n",
       "    <tr style=\"text-align: right;\">\n",
       "      <th></th>\n",
       "      <th>ora</th>\n",
       "      <th>irr_pvgis_mod</th>\n",
       "      <th>irri_pvgis_mod</th>\n",
       "      <th>temperatura_ambiente</th>\n",
       "      <th>tempi</th>\n",
       "      <th>irradiamento</th>\n",
       "      <th>irri</th>\n",
       "      <th>pressure</th>\n",
       "      <th>pressurei</th>\n",
       "      <th>windspeed</th>\n",
       "      <th>windspeedi</th>\n",
       "      <th>dewpoint</th>\n",
       "      <th>dewpointi</th>\n",
       "      <th>cloudcover</th>\n",
       "      <th>cloudcoveri</th>\n",
       "    </tr>\n",
       "  </thead>\n",
       "  <tbody>\n",
       "    <tr>\n",
       "      <th>0</th>\n",
       "      <td>0.0</td>\n",
       "      <td>0.0</td>\n",
       "      <td>0.086</td>\n",
       "      <td>0.212</td>\n",
       "      <td>0.076</td>\n",
       "      <td>0.0</td>\n",
       "      <td>0.218</td>\n",
       "      <td>0.0</td>\n",
       "      <td>0.0</td>\n",
       "      <td>0.041</td>\n",
       "      <td>0.037</td>\n",
       "      <td>0.582</td>\n",
       "      <td>0.114</td>\n",
       "      <td>0.00</td>\n",
       "      <td>0.196</td>\n",
       "    </tr>\n",
       "    <tr>\n",
       "      <th>1</th>\n",
       "      <td>0.0</td>\n",
       "      <td>0.0</td>\n",
       "      <td>0.086</td>\n",
       "      <td>0.212</td>\n",
       "      <td>0.076</td>\n",
       "      <td>0.0</td>\n",
       "      <td>0.218</td>\n",
       "      <td>0.0</td>\n",
       "      <td>0.0</td>\n",
       "      <td>0.001</td>\n",
       "      <td>0.037</td>\n",
       "      <td>0.583</td>\n",
       "      <td>0.114</td>\n",
       "      <td>0.00</td>\n",
       "      <td>0.196</td>\n",
       "    </tr>\n",
       "    <tr>\n",
       "      <th>2</th>\n",
       "      <td>0.0</td>\n",
       "      <td>0.0</td>\n",
       "      <td>0.086</td>\n",
       "      <td>0.212</td>\n",
       "      <td>0.076</td>\n",
       "      <td>0.0</td>\n",
       "      <td>0.218</td>\n",
       "      <td>0.0</td>\n",
       "      <td>0.0</td>\n",
       "      <td>0.021</td>\n",
       "      <td>0.037</td>\n",
       "      <td>0.399</td>\n",
       "      <td>0.114</td>\n",
       "      <td>0.31</td>\n",
       "      <td>0.196</td>\n",
       "    </tr>\n",
       "  </tbody>\n",
       "</table>\n",
       "</div>"
      ],
      "text/plain": [
       "   ora  irr_pvgis_mod  irri_pvgis_mod  temperatura_ambiente  tempi  \\\n",
       "0  0.0            0.0           0.086                 0.212  0.076   \n",
       "1  0.0            0.0           0.086                 0.212  0.076   \n",
       "2  0.0            0.0           0.086                 0.212  0.076   \n",
       "\n",
       "   irradiamento   irri  pressure  pressurei  windspeed  windspeedi  dewpoint  \\\n",
       "0           0.0  0.218       0.0        0.0      0.041       0.037     0.582   \n",
       "1           0.0  0.218       0.0        0.0      0.001       0.037     0.583   \n",
       "2           0.0  0.218       0.0        0.0      0.021       0.037     0.399   \n",
       "\n",
       "   dewpointi  cloudcover  cloudcoveri  \n",
       "0      0.114        0.00        0.196  \n",
       "1      0.114        0.00        0.196  \n",
       "2      0.114        0.31        0.196  "
      ]
     },
     "execution_count": 13,
     "metadata": {},
     "output_type": "execute_result"
    }
   ],
   "source": [
    "\n",
    "testdf = pd.read_csv(\"test.csv\")\n",
    "# testdf_dropna = testdf.dropna()\n",
    "testdf_complete = testdf.loc[:,['ora',\n",
    "                                         'irr_pvgis_mod','irri_pvgis_mod',\n",
    "                                         'temperatura_ambiente', 'tempi',\n",
    "                                         'irradiamento','irri',\n",
    "                                         'pressure','pressurei', 'windspeed','windspeedi',\n",
    "                                         'dewpoint','dewpointi', 'cloudcover','cloudcoveri']]\n",
    "\n",
    "# testdf_complete = testdf_dropna.loc[:,['ora',\n",
    "#                                          'irradiamento','irri','cloudcover','cloudcoveri'\n",
    "#                                       ]]\n",
    "\n",
    "testdf_complete.head(3)"
   ]
  },
  {
   "cell_type": "code",
   "execution_count": 14,
   "metadata": {
    "collapsed": false
   },
   "outputs": [
    {
     "name": "stdout",
     "output_type": "stream",
     "text": [
      "Wall time: 2min 12s\n"
     ]
    }
   ],
   "source": [
    "%%time\n",
    "modelfit = svm.SVR(C=1, gamma=1, epsilon=0.1).fit(X, Y)\n"
   ]
  },
  {
   "cell_type": "code",
   "execution_count": 15,
   "metadata": {
    "collapsed": false
   },
   "outputs": [
    {
     "name": "stdout",
     "output_type": "stream",
     "text": [
      "Wall time: 30.3 s\n"
     ]
    }
   ],
   "source": [
    "%%time\n",
    "pred_result = modelfit.predict(testdf_complete)"
   ]
  },
  {
   "cell_type": "code",
   "execution_count": 16,
   "metadata": {
    "collapsed": false
   },
   "outputs": [],
   "source": [
    "# pred_result[140:150]"
   ]
  },
  {
   "cell_type": "code",
   "execution_count": 17,
   "metadata": {
    "collapsed": false,
    "scrolled": true
   },
   "outputs": [],
   "source": [
    "# testdf_complete[140:150]"
   ]
  },
  {
   "cell_type": "code",
   "execution_count": 18,
   "metadata": {
    "collapsed": false
   },
   "outputs": [
    {
     "data": {
      "text/html": [
       "<div>\n",
       "<table border=\"1\" class=\"dataframe\">\n",
       "  <thead>\n",
       "    <tr style=\"text-align: right;\">\n",
       "      <th></th>\n",
       "      <th>id</th>\n",
       "      <th>kwh</th>\n",
       "    </tr>\n",
       "  </thead>\n",
       "  <tbody>\n",
       "    <tr>\n",
       "      <th>0</th>\n",
       "      <td>34255</td>\n",
       "      <td>0.026213</td>\n",
       "    </tr>\n",
       "    <tr>\n",
       "      <th>1</th>\n",
       "      <td>34282</td>\n",
       "      <td>0.025545</td>\n",
       "    </tr>\n",
       "    <tr>\n",
       "      <th>2</th>\n",
       "      <td>34375</td>\n",
       "      <td>0.028071</td>\n",
       "    </tr>\n",
       "    <tr>\n",
       "      <th>3</th>\n",
       "      <td>34572</td>\n",
       "      <td>0.026310</td>\n",
       "    </tr>\n",
       "    <tr>\n",
       "      <th>4</th>\n",
       "      <td>34660</td>\n",
       "      <td>0.023618</td>\n",
       "    </tr>\n",
       "  </tbody>\n",
       "</table>\n",
       "</div>"
      ],
      "text/plain": [
       "      id       kwh\n",
       "0  34255  0.026213\n",
       "1  34282  0.025545\n",
       "2  34375  0.028071\n",
       "3  34572  0.026310\n",
       "4  34660  0.023618"
      ]
     },
     "execution_count": 18,
     "metadata": {},
     "output_type": "execute_result"
    }
   ],
   "source": [
    "kwh = pd.Series(pred_result)\n",
    "d = {'id': testdf['id'].tolist(), 'kwh': pred_result}\n",
    "result = pd.DataFrame(data=d)\n",
    "result.head()"
   ]
  },
  {
   "cell_type": "code",
   "execution_count": 19,
   "metadata": {
    "collapsed": false
   },
   "outputs": [],
   "source": [
    "result.to_csv('wynik.csv',index=False)"
   ]
  },
  {
   "cell_type": "code",
   "execution_count": null,
   "metadata": {
    "collapsed": false
   },
   "outputs": [],
   "source": [
    "print('test')"
   ]
  }
 ],
 "metadata": {
  "anaconda-cloud": {},
  "kernelspec": {
   "display_name": "Python [conda root]",
   "language": "python",
   "name": "conda-root-py"
  },
  "language_info": {
   "codemirror_mode": {
    "name": "ipython",
    "version": 3
   },
   "file_extension": ".py",
   "mimetype": "text/x-python",
   "name": "python",
   "nbconvert_exporter": "python",
   "pygments_lexer": "ipython3",
   "version": "3.5.2"
  }
 },
 "nbformat": 4,
 "nbformat_minor": 1
}
